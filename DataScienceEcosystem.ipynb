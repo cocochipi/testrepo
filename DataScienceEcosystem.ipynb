{
 "cells": [
  {
   "cell_type": "markdown",
   "id": "929544e6-17f1-4bf0-b0e8-2f37f5e0906f",
   "metadata": {},
   "source": [
    "<h1>Data Science Tools and Ecosystem</h1>"
   ]
  },
  {
   "cell_type": "markdown",
   "id": "2555d249-88a1-4661-808a-e9e31f06d2ce",
   "metadata": {},
   "source": [
    "<h4>In this notebook, Data Science Tools and Ecosystem are summarized</h4>"
   ]
  },
  {
   "cell_type": "markdown",
   "id": "fd619354-8b45-4cb1-a0eb-3ff36433b4a7",
   "metadata": {},
   "source": [
    "#### Some of the popular languages that Data Scientists use are:\n",
    "\n",
    "1. Python\n",
    "2. Java\n",
    "3. R- R\r\n"
   ]
  },
  {
   "cell_type": "markdown",
   "id": "0bcc1826-80cf-467c-9a85-94845af3dd17",
   "metadata": {},
   "source": [
    "#### Some of the commonly used libraries used by Data Scientists include:\n",
    "\n",
    "1. Numpy\n",
    "2. Pandas\n",
    "3. Plotly"
   ]
  },
  {
   "cell_type": "markdown",
   "id": "88e445fa-5397-4faf-8aee-81d0f5a07530",
   "metadata": {},
   "source": [
    "## Data Science Tools\n",
    "\n",
    "| Data Science Tools |\n",
    "|--------------------|\n",
    "| Jupyter Notebook   |\n",
    "| Apache Zeppelin    |\n",
    "| RStudio            |\n"
   ]
  },
  {
   "cell_type": "markdown",
   "id": "4464df11-c16f-4d14-a3a6-9895b49741bd",
   "metadata": {},
   "source": [
    "### Below are a few examples of evaluating arithmetic expressions in Python.\n",
    "\n",
    "Here are some examples of arithmetic expressions:\n",
    "\n",
    "##### Addition\n",
    "result_a = 5 + 3\n",
    "print(\"5 + 3 =\", result_a)\n",
    "\n",
    "##### Subtraction\n",
    "result_s = 10 - 4\n",
    "print(\"10 - 4 =\", result_s)\n",
    "\n",
    "##### Multiplication\n",
    "result_m = 7 * 6\n",
    "print(\"7 * 6 =\", result_m)\n",
    "\n",
    "##### Division\n",
    "result_d = 20 / 5\n",
    "print(\"20 / 5 =\", result_d)\n",
    "\n",
    "##### Exponentiation\n",
    "result_e = 2 ** 3\n",
    "print(\"2 ** 3 =\", result_e)\n",
    "\n",
    "##### Modulus\n",
    "result_m = 15 % 5\n",
    "print(\"15 % 5 =\", result_m)\n"
   ]
  },
  {
   "cell_type": "code",
   "execution_count": 4,
   "id": "d6d08610-e1a2-4c67-a8bf-86a388e72e9a",
   "metadata": {},
   "outputs": [
    {
     "name": "stdout",
     "output_type": "stream",
     "text": [
      "17\n"
     ]
    }
   ],
   "source": [
    "m= (3*4) + 5\n",
    "print(m)\n",
    "#This is a simple arithmetic expression to multiply then add integers"
   ]
  },
  {
   "cell_type": "code",
   "execution_count": 5,
   "id": "39ce421b-cf1a-472e-892c-0a720a08c0cf",
   "metadata": {},
   "outputs": [
    {
     "name": "stdout",
     "output_type": "stream",
     "text": [
      "3.3333333333333335\n"
     ]
    }
   ],
   "source": [
    "# This will convert 200 minutes to hours by dividing by 60.\n",
    "minutes = 200\n",
    "hours = minutes / 60\n",
    "print(hours)\n"
   ]
  },
  {
   "cell_type": "markdown",
   "id": "3d1f0072-538d-4ec9-8ccf-6d0ac316f409",
   "metadata": {},
   "source": [
    "**Objectives:**\n",
    "\n",
    "- Listar lenguajes populares\n",
    "- Hacer tablas con Markdown\n",
    "- Ejemplos de ejercicios aritmeticos\n",
    "- Convertir minutos a horas\n",
    "- Poner entornos de desarrollo\n"
   ]
  },
  {
   "cell_type": "markdown",
   "id": "e908be4c-116d-4326-bea4-99e44f141c60",
   "metadata": {},
   "source": [
    "<h2>Author</h2>\n",
    "Janely Gómez Villa"
   ]
  },
  {
   "cell_type": "code",
   "execution_count": null,
   "id": "3d541e72-7b71-4dd2-a8e4-78c87868fc04",
   "metadata": {},
   "outputs": [],
   "source": []
  }
 ],
 "metadata": {
  "kernelspec": {
   "display_name": "Python 3 (ipykernel)",
   "language": "python",
   "name": "python3"
  },
  "language_info": {
   "codemirror_mode": {
    "name": "ipython",
    "version": 3
   },
   "file_extension": ".py",
   "mimetype": "text/x-python",
   "name": "python",
   "nbconvert_exporter": "python",
   "pygments_lexer": "ipython3",
   "version": "3.12.4"
  }
 },
 "nbformat": 4,
 "nbformat_minor": 5
}
